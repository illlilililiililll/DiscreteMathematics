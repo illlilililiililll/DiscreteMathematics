{
 "cells": [
  {
   "cell_type": "markdown",
   "metadata": {},
   "source": [
    "# Numeral System\n",
    "\n",
    "##### Converting Base\n",
    "\n",
    "I. Converting an Integer of Base b to a Decimal Number"
   ]
  },
  {
   "cell_type": "code",
   "execution_count": 1,
   "metadata": {},
   "outputs": [],
   "source": [
    "def base_convert(base, number):\n",
    "  number = [int(i) for i in str(number)]\n",
    "  decimal = 0\n",
    "  unit = 1\n",
    "  \n",
    "  for digit in number[::-1]:\n",
    "    decimal += digit*unit\n",
    "    unit *= base\n",
    "  \n",
    "  return decimal"
   ]
  },
  {
   "cell_type": "code",
   "execution_count": 2,
   "metadata": {},
   "outputs": [
    {
     "name": "stdout",
     "output_type": "stream",
     "text": [
      "71016\n"
     ]
    }
   ],
   "source": [
    "n = 10001010101101000\n",
    "\n",
    "print(base_convert(2, n))"
   ]
  }
 ],
 "metadata": {
  "kernelspec": {
   "display_name": "Python 3",
   "language": "python",
   "name": "python3"
  },
  "language_info": {
   "codemirror_mode": {
    "name": "ipython",
    "version": 3
   },
   "file_extension": ".py",
   "mimetype": "text/x-python",
   "name": "python",
   "nbconvert_exporter": "python",
   "pygments_lexer": "ipython3",
   "version": "3.12.1"
  }
 },
 "nbformat": 4,
 "nbformat_minor": 2
}
