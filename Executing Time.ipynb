{
  "cells": [
    {
      "cell_type": "code",
      "execution_count": 1,
      "metadata": {
        "id": "_IXSsEPa7Hfz"
      },
      "outputs": [],
      "source": [
        "import math\n",
        "import time"
      ]
    },
    {
      "cell_type": "markdown",
      "metadata": {},
      "source": [
        "$n!$을 계산하는데 걸리는 시간을 구해주는 사용자 정의 함수 cal_time_fac()을 만들자."
      ]
    },
    {
      "cell_type": "code",
      "execution_count": 2,
      "metadata": {},
      "outputs": [],
      "source": [
        "def cal_time_fac(n):\n",
        "    start = time.time()\n",
        "    math.factorial(n)\n",
        "    end = time.time()\n",
        "    \n",
        "    return end - start"
      ]
    },
    {
      "cell_type": "code",
      "execution_count": 3,
      "metadata": {},
      "outputs": [
        {
          "name": "stdout",
          "output_type": "stream",
          "text": [
            "0.0000000000\n",
            "0.0093100071\n",
            "6.3846995831\n"
          ]
        }
      ],
      "source": [
        "for i in range(1, 4):\n",
        "    print(f\"{cal_time_fac(10**(2*i)):.10f}\")"
      ]
    },
    {
      "cell_type": "markdown",
      "metadata": {},
      "source": [
        "$for\\, i = 1$ to $n$\n",
        "\n",
        "&nbsp;&nbsp;&nbsp;&nbsp;&nbsp;&nbsp;&nbsp;&nbsp;$for\\,j = 1$ to $i$\n",
        "\n",
        "&nbsp;&nbsp;&nbsp;&nbsp;&nbsp;&nbsp;&nbsp;&nbsp;&nbsp;&nbsp;&nbsp;&nbsp;&nbsp;&nbsp;&nbsp;&nbsp;$x = x + 1$\n",
        "\n",
        "다음 알고리즘에서 $x = x + 1$이 실행되는 횟수를 $k$라 하면 $k = \\Theta(n^2)$이다. \n",
        "\n",
        "어떤 수 $n$에 대해서 위 알고리즘을 실행하는 데 걸리는 시간을 구하는 함수 cal_time_square()를 만들고, \n",
        "\n",
        "$n = 10^2, 10^3, 10^4$일 때 위 알고리즘을 실행하는데 걸리는 시간을 구하자. "
      ]
    },
    {
      "cell_type": "code",
      "execution_count": 4,
      "metadata": {},
      "outputs": [],
      "source": [
        "def cal_time_square(n):\n",
        "    x = 0\n",
        "    start = time.time()\n",
        "    \n",
        "    for i in range(1,n):\n",
        "        for j in range(1,i):\n",
        "            x = x + 1\n",
        "\n",
        "    end = time.time()\n",
        "    \n",
        "    return end - start"
      ]
    },
    {
      "cell_type": "code",
      "execution_count": 5,
      "metadata": {},
      "outputs": [
        {
          "name": "stdout",
          "output_type": "stream",
          "text": [
            "0.00000000\n",
            "0.01227403\n",
            "1.40111136\n"
          ]
        }
      ],
      "source": [
        "for i in range(2, 5):\n",
        "    print(f\"{cal_time_square(10**i):.8f}\")"
      ]
    },
    {
      "cell_type": "markdown",
      "metadata": {
        "id": "eKluhoBI1Pzy"
      },
      "source": [
        "# 연습문제 1\n",
        "p248 예제 4.3.9에서 $log_2{n!} = \\Theta(n\\,log_2{n})$임을 확인하였다. 다음 질문에 답하시오."
      ]
    },
    {
      "cell_type": "markdown",
      "metadata": {
        "id": "2Rzfsdi32V_s"
      },
      "source": [
        "(1) $log_2{n!}$을 계산하는데 걸리는 시간을 구해주는 사용자 정의 함수 cal_time_logfac()을 만드시오."
      ]
    },
    {
      "cell_type": "code",
      "execution_count": 6,
      "metadata": {
        "id": "hEG2I-pwyafx"
      },
      "outputs": [],
      "source": [
        "def cal_time_logfac(n):\n",
        "  start = time.time()\n",
        "  math.log2(math.factorial(n))\n",
        "  end = time.time()\n",
        "\n",
        "  return end - start"
      ]
    },
    {
      "cell_type": "markdown",
      "metadata": {
        "id": "gH1cCYlq2jo3"
      },
      "source": [
        "(2) 반복문을 이용해 $n = 10, 10^2, 10^3, 10^4, 10^5$ 일 때, cal_time_logfac()을 실행하시오."
      ]
    },
    {
      "cell_type": "code",
      "execution_count": 7,
      "metadata": {
        "colab": {
          "base_uri": "https://localhost:8080/"
        },
        "id": "ax4sqJzVyrDh",
        "outputId": "317fc0d3-d0b4-44ac-910e-713fb521e7ec"
      },
      "outputs": [
        {
          "name": "stdout",
          "output_type": "stream",
          "text": [
            "0.0000000000\n",
            "0.0000000000\n",
            "0.0000000000\n",
            "0.0000000000\n",
            "0.1343247890\n"
          ]
        }
      ],
      "source": [
        "for i in range(1, 6):\n",
        "  print(f\"{cal_time_logfac(10**i):.10f}\")"
      ]
    },
    {
      "cell_type": "markdown",
      "metadata": {
        "id": "jDk8oOVry4RV"
      },
      "source": [
        "# 연습문제 2\n",
        "p247 예제 4.3.7에서, 합 $1+2+3+··· +n$을 구하는데 걸리는 시간을 $k$라 하면 $k=Θ(n^2)$이다. 다음 질문에 답하시오. "
      ]
    },
    {
      "cell_type": "markdown",
      "metadata": {
        "id": "GcA9gKsm26gl"
      },
      "source": [
        "(1) 합 $1+2+3+⋅⋅⋅+n$을 구하는 사용자 정의 함수 my_sum()을 만드시오.\n",
        "\n",
        "(2) my_sum(10)을 구하시오."
      ]
    },
    {
      "cell_type": "code",
      "execution_count": 8,
      "metadata": {
        "colab": {
          "base_uri": "https://localhost:8080/"
        },
        "id": "ScgISPvxy0nX",
        "outputId": "5199ddf9-e723-4b81-d273-a7eba94c7497"
      },
      "outputs": [
        {
          "name": "stdout",
          "output_type": "stream",
          "text": [
            "55\n"
          ]
        }
      ],
      "source": [
        "# for루프 이용\n",
        "def my_sum(n):\n",
        "  result = 0\n",
        "  for i in range(1, n+1):\n",
        "    result += i\n",
        "\n",
        "  return result\n",
        "\n",
        "print(my_sum(10))"
      ]
    },
    {
      "cell_type": "code",
      "execution_count": 9,
      "metadata": {
        "colab": {
          "base_uri": "https://localhost:8080/"
        },
        "id": "lyML5JRDz_p1",
        "outputId": "446d21a0-b1cc-46ee-82cc-7e6f31f36801"
      },
      "outputs": [
        {
          "name": "stdout",
          "output_type": "stream",
          "text": [
            "55\n"
          ]
        }
      ],
      "source": [
        "# 합 공식 이용\n",
        "def my_sum(n):\n",
        "  return (n*(n+1))//2\n",
        "\n",
        "print(my_sum(10))"
      ]
    },
    {
      "cell_type": "markdown",
      "metadata": {
        "id": "zfNogv0S3dPg"
      },
      "source": [
        "(3) 합 $1+2+3+⋅⋅⋅+n$을 계산하는데 걸리는 시간을 구해주는 사용자 정의 함수 cal_time_sum()을 만드시오.\n",
        "\n",
        "(4) 반복문을 이용해 $n=10, 10^2, 10^3, 10^4, 10^5$일 때, cal_time_sum()을 실행하시오."
      ]
    },
    {
      "cell_type": "code",
      "execution_count": 10,
      "metadata": {
        "colab": {
          "base_uri": "https://localhost:8080/"
        },
        "id": "2_HoA6Np0DMG",
        "outputId": "f6edb9fd-2d10-4a79-9f9f-76f48485c810"
      },
      "outputs": [
        {
          "name": "stdout",
          "output_type": "stream",
          "text": [
            "0.0000000000\n",
            "0.0000000000\n",
            "0.0000000000\n",
            "0.0000000000\n",
            "0.0058975220\n"
          ]
        }
      ],
      "source": [
        "# for루프\n",
        "def cal_time_sum(n):\n",
        "  start = time.time()\n",
        "  result = 0\n",
        "  for i in range(1, n+1):\n",
        "    result += i\n",
        "  end = time.time()\n",
        "\n",
        "  return end - start\n",
        "\n",
        "for i in range(1, 6):\n",
        "  print(f\"{cal_time_sum(10**i):.10f}\")"
      ]
    },
    {
      "cell_type": "code",
      "execution_count": 11,
      "metadata": {
        "colab": {
          "base_uri": "https://localhost:8080/"
        },
        "id": "tW326C1R04Da",
        "outputId": "3d0e0b3f-c9e4-4aba-d1b5-19cd35fa45f9"
      },
      "outputs": [
        {
          "name": "stdout",
          "output_type": "stream",
          "text": [
            "0.0000000000\n",
            "0.0000000000\n",
            "0.0000000000\n",
            "0.0000000000\n",
            "0.0000000000\n"
          ]
        }
      ],
      "source": [
        "# 합 공식\n",
        "def cal_time_sum(n):\n",
        "  start = time.time()\n",
        "  result = (n*(n+1))//2\n",
        "  end = time.time()\n",
        "\n",
        "  return end - start\n",
        "\n",
        "for i in range(1, 6):\n",
        "  print(f\"{cal_time_sum(10**i):.10f}\")"
      ]
    }
  ],
  "metadata": {
    "colab": {
      "provenance": []
    },
    "kernelspec": {
      "display_name": "Python 3",
      "name": "python3"
    },
    "language_info": {
      "codemirror_mode": {
        "name": "ipython",
        "version": 3
      },
      "file_extension": ".py",
      "mimetype": "text/x-python",
      "name": "python",
      "nbconvert_exporter": "python",
      "pygments_lexer": "ipython3",
      "version": "3.12.1"
    }
  },
  "nbformat": 4,
  "nbformat_minor": 0
}
