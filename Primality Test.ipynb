{
 "cells": [
  {
   "cell_type": "markdown",
   "metadata": {},
   "source": [
    "# Primality Test"
   ]
  },
  {
   "cell_type": "markdown",
   "metadata": {},
   "source": [
    "procedure is_prime($n$: positive integer)\n",
    "\n",
    "&nbsp;&nbsp;&nbsp;&nbsp;&nbsp;&nbsp;&nbsp;&nbsp;for $d=2$ to $n-1$\n",
    "\n",
    "&nbsp;&nbsp;&nbsp;&nbsp;&nbsp;&nbsp;&nbsp;&nbsp;&nbsp;&nbsp;&nbsp;&nbsp;&nbsp;&nbsp;&nbsp;&nbsp;if ($n$ mod $d$ == 0) then\n",
    "\n",
    "&nbsp;&nbsp;&nbsp;&nbsp;&nbsp;&nbsp;&nbsp;&nbsp;&nbsp;&nbsp;&nbsp;&nbsp;&nbsp;&nbsp;&nbsp;&nbsp;&nbsp;&nbsp;&nbsp;&nbsp;&nbsp;&nbsp;&nbsp;&nbsp;return 0\n",
    "\n",
    "&nbsp;&nbsp;&nbsp;&nbsp;&nbsp;&nbsp;&nbsp;&nbsp;return 1"
   ]
  },
  {
   "cell_type": "code",
   "execution_count": 1,
   "metadata": {},
   "outputs": [],
   "source": [
    "def is_prime(n):\n",
    "    if n == 1:\n",
    "        return False\n",
    "    \n",
    "    for d in range(2, n):\n",
    "        if n%d == 0:\n",
    "            return False\n",
    "        \n",
    "    return True"
   ]
  },
  {
   "cell_type": "code",
   "execution_count": 2,
   "metadata": {},
   "outputs": [
    {
     "name": "stdout",
     "output_type": "stream",
     "text": [
      "False\n",
      "True\n"
     ]
    }
   ],
   "source": [
    "print(is_prime(927))\n",
    "\n",
    "print(is_prime(1987))"
   ]
  },
  {
   "cell_type": "markdown",
   "metadata": {},
   "source": [
    "procedure is_prime($n$: positive integer)\n",
    "\n",
    "&nbsp;&nbsp;&nbsp;&nbsp;&nbsp;&nbsp;&nbsp;&nbsp;for $d=2$ to $\\lfloor \\sqrt{n} \\rfloor$\n",
    "\n",
    "&nbsp;&nbsp;&nbsp;&nbsp;&nbsp;&nbsp;&nbsp;&nbsp;&nbsp;&nbsp;&nbsp;&nbsp;&nbsp;&nbsp;&nbsp;&nbsp;if ($n$ mod $d$ == 0) then\n",
    "\n",
    "&nbsp;&nbsp;&nbsp;&nbsp;&nbsp;&nbsp;&nbsp;&nbsp;&nbsp;&nbsp;&nbsp;&nbsp;&nbsp;&nbsp;&nbsp;&nbsp;&nbsp;&nbsp;&nbsp;&nbsp;&nbsp;&nbsp;&nbsp;&nbsp;return 0\n",
    "\n",
    "&nbsp;&nbsp;&nbsp;&nbsp;&nbsp;&nbsp;&nbsp;&nbsp; return 1"
   ]
  },
  {
   "cell_type": "code",
   "execution_count": 3,
   "metadata": {},
   "outputs": [],
   "source": [
    "def is_prime2(n):\n",
    "    if n == 1:\n",
    "        return False\n",
    "    \n",
    "    for d in range(2, int(n**(1/2))):\n",
    "        if n % d == 0:\n",
    "            return False\n",
    "    \n",
    "    return True"
   ]
  },
  {
   "cell_type": "code",
   "execution_count": 4,
   "metadata": {},
   "outputs": [
    {
     "name": "stdout",
     "output_type": "stream",
     "text": [
      "False\n",
      "True\n"
     ]
    }
   ],
   "source": [
    "print(is_prime2(927))\n",
    "\n",
    "print(is_prime2(1987))"
   ]
  },
  {
   "cell_type": "markdown",
   "metadata": {},
   "source": [
    "### Time Comparison"
   ]
  },
  {
   "cell_type": "code",
   "execution_count": 5,
   "metadata": {},
   "outputs": [
    {
     "name": "stdout",
     "output_type": "stream",
     "text": [
      "\t\t1\t\t\t2\n",
      "# 1 ≤ n ≤ 10^1\t0.000000000000\t\t0.000000000000\n",
      "# 1 ≤ n ≤ 10^2\t0.000000000000\t\t0.000000000000\n",
      "# 1 ≤ n ≤ 10^3\t0.000000000000\t\t0.005772352219\n",
      "# 1 ≤ n ≤ 10^4\t0.334236145020\t\t0.010097265244\n",
      "# 1 ≤ n ≤ 10^5\t24.719902038574\t\t0.129797697067\n"
     ]
    }
   ],
   "source": [
    "import time\n",
    "\n",
    "print(\"\\t\\t1\\t\\t\\t2\")\n",
    "for i in range(1, 6):\n",
    "    start = time.time()\n",
    "    for n in range(1, 10**i + 1):\n",
    "        is_prime(n)\n",
    "    end = time.time()\n",
    "    time_1 = end - start\n",
    "\n",
    "    start = time.time()\n",
    "    for n in range(1, 10**i + 1):\n",
    "        is_prime2(n)\n",
    "    end = time.time()\n",
    "    time_2 = end - start\n",
    "    \n",
    "    print(f\"# 1 ≤ n ≤ 10^{i}\\t{time_1:.12f}\\t\\t{time_2:.12f}\")"
   ]
  }
 ],
 "metadata": {
  "kernelspec": {
   "display_name": "Python 3",
   "language": "python",
   "name": "python3"
  },
  "language_info": {
   "codemirror_mode": {
    "name": "ipython",
    "version": 3
   },
   "file_extension": ".py",
   "mimetype": "text/x-python",
   "name": "python",
   "nbconvert_exporter": "python",
   "pygments_lexer": "ipython3",
   "version": "3.12.1"
  }
 },
 "nbformat": 4,
 "nbformat_minor": 2
}
