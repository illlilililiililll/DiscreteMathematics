{
 "cells": [
  {
   "cell_type": "markdown",
   "metadata": {},
   "source": [
    "# Max Search\n",
    "<ALGORITHM 1 : Finding the Maximum Element in a Finite Sequence>"
   ]
  },
  {
   "cell_type": "markdown",
   "metadata": {},
   "source": [
    "procedure $max$($a_1, a_2, ⋯, a_n$: integers)\n",
    "\n",
    "$max := a_1$\n",
    "\n",
    "$for\\,i := 2$ to $n$\n",
    "\n",
    "&nbsp;&nbsp;&nbsp;&nbsp;&nbsp;&nbsp;&nbsp;&nbsp;if $max < a_i$ then $max := a_i$ \n",
    "\n",
    "return $max$ {$max$ is the largest element}"
   ]
  },
  {
   "cell_type": "code",
   "execution_count": 1,
   "metadata": {},
   "outputs": [],
   "source": [
    "def maximum(array):\n",
    "    m_max = array[0]\n",
    "    for i in range(1, len(array)):\n",
    "        if (m_max < array[i]):\n",
    "            m_max = array[i]\n",
    "    \n",
    "    print(m_max)"
   ]
  },
  {
   "cell_type": "code",
   "execution_count": 2,
   "metadata": {},
   "outputs": [
    {
     "name": "stdout",
     "output_type": "stream",
     "text": [
      "5\n"
     ]
    }
   ],
   "source": [
    "a = [1, 5, 2, 3, -1]\n",
    "\n",
    "maximum(a)"
   ]
  },
  {
   "cell_type": "markdown",
   "metadata": {},
   "source": [
    "# Linear Search\n",
    "<ALGORITHM 2 : Finding the Maximum Element in a Finite Sequence>"
   ]
  },
  {
   "cell_type": "markdown",
   "metadata": {},
   "source": [
    "procedure linear search($x$: integer, $a_1, a_2, ⋯, a_n$: distinct integers)\n",
    "\n",
    "$i := 1$\n",
    "\n",
    "while ($i \\leq n$ and $ x \\neq a_i$)\n",
    "\n",
    "&nbsp;&nbsp;&nbsp;&nbsp;&nbsp;&nbsp;&nbsp;&nbsp;$i := i + 1$\n",
    "\n",
    "if ($i \\leq n$) then location $:= i$\n",
    "\n",
    "else location $:= 0$\n",
    "\n",
    "return location(location is the subscript of the term that equals $x$, or is $0$ if $x$ is not found)"
   ]
  },
  {
   "cell_type": "code",
   "execution_count": 3,
   "metadata": {},
   "outputs": [],
   "source": [
    "def linear_search(array, target):\n",
    "    i = 0\n",
    "    while ((i < len(array)) and (array[i] != target)):\n",
    "        i += 1\n",
    "    \n",
    "    if i < len(array):\n",
    "        return i + 1\n",
    "    \n",
    "    else:\n",
    "        return 0"
   ]
  },
  {
   "cell_type": "code",
   "execution_count": 4,
   "metadata": {},
   "outputs": [],
   "source": [
    "def linear_search(array, target):\n",
    "    for i in range(len(array)):\n",
    "        if (array[i] == target):\n",
    "            return i + 1\n",
    "        \n",
    "    else:\n",
    "        return 0"
   ]
  },
  {
   "cell_type": "code",
   "execution_count": 5,
   "metadata": {},
   "outputs": [
    {
     "name": "stdout",
     "output_type": "stream",
     "text": [
      "3\n",
      "0\n"
     ]
    }
   ],
   "source": [
    "a = [0, 2, 5, 4, 3]\n",
    "\n",
    "print(linear_search(a, 5))\n",
    "print(linear_search(a, 6))"
   ]
  },
  {
   "cell_type": "markdown",
   "metadata": {},
   "source": [
    "# Binary Search\n",
    "<ALGORITHM : 3 The Binary Search Algorithm>"
   ]
  },
  {
   "cell_type": "markdown",
   "metadata": {},
   "source": [
    "procedure binary search($x$: integer, $a_1, a_2, ⋯, a_n$: increasing integers)\n",
    "\n",
    "$i := 1$ {$i$ is left endpoint of search interval}\n",
    "\n",
    "$j := n$ {$j$ is right endpoint of search interval}\n",
    "\n",
    "while $i < j$\n",
    "&nbsp;&nbsp;&nbsp;&nbsp;&nbsp;&nbsp;&nbsp;&nbsp;$m := \\lfloor (i+j)/2 \\rfloor$\n",
    "\n",
    "&nbsp;&nbsp;&nbsp;&nbsp;&nbsp;&nbsp;&nbsp;&nbsp;if $x < a_m$ then $i := m + 1$\n",
    "\n",
    "&nbsp;&nbsp;&nbsp;&nbsp;&nbsp;&nbsp;&nbsp;&nbsp;else $j := m$\n",
    "\n",
    "if $x = a_i$ then location $:= i$\n",
    "\n",
    "else location $:= 0$\n",
    "\n",
    "return location {location is the subscript $i$ of the term $a_i$ equal to $x$, or $0$ if $x$ is not found}"
   ]
  },
  {
   "cell_type": "code",
   "execution_count": 6,
   "metadata": {},
   "outputs": [],
   "source": [
    "def binary_search(array, target):\n",
    "    i = 0\n",
    "    j = len(array)-1\n",
    "\n",
    "    while (i < j):\n",
    "        m = (i+j)//2\n",
    "            \n",
    "        if (target > array[m]):\n",
    "            i = m + 1\n",
    "        \n",
    "        else:\n",
    "            j = m\n",
    "\n",
    "    if (array[i] == target):\n",
    "        return i + 1\n",
    "    else:\n",
    "        return 0"
   ]
  },
  {
   "cell_type": "code",
   "execution_count": 7,
   "metadata": {},
   "outputs": [],
   "source": [
    "def binary_search(array, target):\n",
    "    left = 0\n",
    "    right = len(array) - 1\n",
    "\n",
    "    while (left <= right):\n",
    "        m = int((left + right)/2)\n",
    "\n",
    "        if (array[m] == target):\n",
    "            return m\n",
    "        \n",
    "        elif (array[m] > target):\n",
    "            right = m - 1\n",
    "            \n",
    "        elif (array[m] < target):\n",
    "            left = m + 1\n",
    "    else:\n",
    "        return 0"
   ]
  },
  {
   "cell_type": "code",
   "execution_count": 8,
   "metadata": {},
   "outputs": [
    {
     "name": "stdout",
     "output_type": "stream",
     "text": [
      "3\n",
      "0\n"
     ]
    }
   ],
   "source": [
    "a = [1, 2, 3, 5, 8]\n",
    "\n",
    "print(binary_search(a, 5))\n",
    "print(binary_search(a, 6))"
   ]
  }
 ],
 "metadata": {
  "kernelspec": {
   "display_name": "Python 3",
   "language": "python",
   "name": "python3"
  },
  "language_info": {
   "codemirror_mode": {
    "name": "ipython",
    "version": 3
   },
   "file_extension": ".py",
   "mimetype": "text/x-python",
   "name": "python",
   "nbconvert_exporter": "python",
   "pygments_lexer": "ipython3",
   "version": "3.12.1"
  }
 },
 "nbformat": 4,
 "nbformat_minor": 2
}
